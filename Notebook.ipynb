{
 "cells": [
  {
   "cell_type": "markdown",
   "id": "5dee69f4-5737-44fa-a91f-ef164866f745",
   "metadata": {
    "tags": []
   },
   "source": [
    "# Article **Skimmer** and **Summarizer** with Neural Networks"
   ]
  },
  {
   "cell_type": "markdown",
   "id": "3f04b381-7d5d-443f-95b7-4d7f934c6780",
   "metadata": {},
   "source": [
    "## Abstract"
   ]
  },
  {
   "cell_type": "markdown",
   "id": "0e99c102-40a5-4c2b-aefe-f0eaa0f74611",
   "metadata": {},
   "source": [
    "![image](Documents/rnn-seq.png)"
   ]
  },
  {
   "cell_type": "markdown",
   "id": "6d6b342f-9b68-4cbe-a072-4e32b22bc3a4",
   "metadata": {
    "tags": []
   },
   "source": [
    "This is a `many to one` sequence problem! <br>\n",
    "**Why?**  because it involves processing a sequence of input data (e.g., words or sentences in an article) and producing a single output (e.g., a summary or classification):<br>\n",
    "1. **Sequence as Input (Many):**\n",
    "The article skimmer takes a sequence of words or sentences, each represented as a unit of input (e.g., word embeddings or sentence embeddings). This sequence may vary in length depending on the article.\n",
    "2. **Single Output (One):**\n",
    "The skimmer's goal is to generate one outcome, such as:\n",
    "A summarized version of the article.\n",
    "A classification label (e.g., \"sports\" or \"technology\").\n",
    "A specific metric or decision (e.g., \"relevant\" or \"irrelevant\")."
   ]
  },
  {
   "cell_type": "markdown",
   "id": "dff1d8ce-5e7a-4725-8bf7-43e1db3601b9",
   "metadata": {},
   "source": [
    "![image](Documents/The-standard-RNN.png)"
   ]
  },
  {
   "cell_type": "markdown",
   "id": "988992b0-3a12-48c6-a8f3-27e4d3f83b76",
   "metadata": {},
   "source": [
    "In many natural language processing (NLP) tasks, understanding the context requires processing the entire sequence to identify key ideas, themes, or categories. This aligns with models like recurrent neural networks (RNNs), transformers, or similar architectures, which can process sequences to produce a unified output."
   ]
  },
  {
   "cell_type": "markdown",
   "id": "a4b2f0b8-45ac-4728-8e6c-88f04549aecb",
   "metadata": {},
   "source": [
    "##### What is a sequence in RNN?"
   ]
  },
  {
   "cell_type": "markdown",
   "id": "1266fdbf-a4d5-4254-b06d-747cabde3d62",
   "metadata": {},
   "source": [
    "A recurrent neural network (RNN) is a deep learning model that is trained to process and convert a sequential data input into a specific sequential data output. Sequential data is data—such as words, sentences, or time-series data—where sequential components interrelate based on complex semantics and syntax rules."
   ]
  },
  {
   "cell_type": "markdown",
   "id": "55ef6c6c-fd32-4662-a7a7-ecdd3530e527",
   "metadata": {},
   "source": [
    "##### Why RNNs are suitable for sequence problems?"
   ]
  },
  {
   "cell_type": "markdown",
   "id": "5d206fcd-af20-4124-8499-03ba964625bc",
   "metadata": {},
   "source": [
    "RNN maintains internal memory, due to this they are very efficient for machine learning problems that involve sequential data. RNNs are also used in time series predictions as well."
   ]
  },
  {
   "cell_type": "markdown",
   "id": "df9c8d12-e458-48a4-8c08-c514879fd6eb",
   "metadata": {},
   "source": [
    "## Dataset"
   ]
  },
  {
   "cell_type": "markdown",
   "id": "97a957e2-f26a-4b96-9e0b-7324d7a1165b",
   "metadata": {
    "tags": []
   },
   "source": [
    "We are using a commonly used dataset by **Franck Dernoncourt, Ji Young Lee**.<br>\n",
    "<a href=\"https://arxiv.org/abs/1710.06071\">PubMed 200k RCT: a Dataset for Sequential Sentence Classification in Medical Abstracts</a><br>\n",
    "The dataset consists of approximately 200,000 abstracts of randomized controlled trials, totaling 2.3 million sentences. Each sentence of each abstract is labeled with their role in the abstract using one of the following classes: background, objective, method, result, or conclusion. "
   ]
  },
  {
   "cell_type": "markdown",
   "id": "1572b11e-6074-4643-9c81-8b9bea88b844",
   "metadata": {},
   "source": [
    "## Coding"
   ]
  },
  {
   "cell_type": "code",
   "execution_count": 1,
   "id": "9b7daab6-6fa9-4b0c-ae87-f59fb47ea203",
   "metadata": {
    "tags": []
   },
   "outputs": [],
   "source": [
    "import pandas as pd\n",
    "import numpy as np\n",
    "import matplotlib.pyplot as plt\n",
    "import seaborn as sns\n",
    "import tensorflow as tf\n",
    "from tensorflow.keras import layers\n",
    "import os"
   ]
  },
  {
   "cell_type": "code",
   "execution_count": 2,
   "id": "661b8b83-80bc-408d-b077-3673e7b480d9",
   "metadata": {
    "tags": []
   },
   "outputs": [
    {
     "data": {
      "text/plain": [
       "['Dataset/PubMed_20k_RCT_numbers_replaced_with_at_sign/train.txt',\n",
       " 'Dataset/PubMed_20k_RCT_numbers_replaced_with_at_sign/test.txt',\n",
       " 'Dataset/PubMed_20k_RCT_numbers_replaced_with_at_sign/dev.txt']"
      ]
     },
     "execution_count": 2,
     "metadata": {},
     "output_type": "execute_result"
    }
   ],
   "source": [
    "path_of_data = \"Dataset/PubMed_20k_RCT_numbers_replaced_with_at_sign\"\n",
    "filenames = [path_of_data + \"/\" + filename + \".txt\" for filename in [\"train\",\"test\",\"dev\"] ]\n",
    "filenames"
   ]
  },
  {
   "cell_type": "code",
   "execution_count": 3,
   "id": "41d8cb6b-1bf2-4f95-bc05-c607c5eed7f6",
   "metadata": {
    "tags": []
   },
   "outputs": [
    {
     "name": "stdout",
     "output_type": "stream",
     "text": [
      "\u001b[1m###24293578\u001b[0m \n",
      "\n",
      "\u001b[1mOBJECTIVE\u001b[0m To investigate the efficacy of @ weeks of daily low-dose oral prednisolone in improving pain , mobility , and systemic low-grade inflammation in the short term and whether the effect would be sustained at @ weeks in older adults with moderate to severe knee osteoarthritis ( OA ) .\n",
      "\n",
      "\u001b[1mMETHODS\u001b[0m A total of @ patients with primary knee OA were randomized @:@ ; @ received @ mg/day of prednisolone and @ received placebo for @ weeks .\n",
      "\n",
      "\u001b[1mMETHODS\u001b[0m Outcome measures included pain reduction and improvement in function scores and systemic inflammation markers .\n",
      "\n",
      "\u001b[1mMETHODS\u001b[0m Pain was assessed using the visual analog pain scale ( @-@ mm ) .\n",
      "\n",
      "\u001b[1mMETHODS\u001b[0m Secondary outcome measures included the Western Ontario and McMaster Universities Osteoarthritis Index scores , patient global assessment ( PGA ) of the severity of knee OA , and @-min walk distance ( @MWD ) .\n",
      "\n",
      "\u001b[1mMETHODS\u001b[0m Serum levels of interleukin @ ( IL-@ ) , IL-@ , tumor necrosis factor ( TNF ) - , and high-sensitivity C-reactive protein ( hsCRP ) were measured .\n",
      "\n",
      "\u001b[1mRESULTS\u001b[0m There was a clinically relevant reduction in the intervention group compared to the placebo group for knee pain , physical function , PGA , and @MWD at @ weeks .\n",
      "\n",
      "\u001b[1mRESULTS\u001b[0m The mean difference between treatment arms ( @ % CI ) was @ ( @-@ @ ) , p < @ ; @ ( @-@ @ ) , p < @ ; @ ( @-@ @ ) , p < @ ; and @ ( @-@ @ ) , p < @ , respectively .\n",
      "\n",
      "\u001b[1mRESULTS\u001b[0m Further , there was a clinically relevant reduction in the serum levels of IL-@ , IL-@ , TNF - , and hsCRP at @ weeks in the intervention group when compared to the placebo group .\n",
      "\n"
     ]
    }
   ],
   "source": [
    "def preprocess_txt_lines(filename, num_lines=10):\n",
    "    with open(filename, \"r\") as file:\n",
    "        for i, line in enumerate(file):\n",
    "            if not line.strip():\n",
    "                continue\n",
    "            target = line.strip().split()[0]\n",
    "            print(f\"\\033[1m{target}\\033[0m\", \" \".join(line.strip().split()[1:]))\n",
    "            print()\n",
    "            if i + 1 >= num_lines:\n",
    "                break\n",
    "\n",
    "preprocess_txt_lines(filenames[0])"
   ]
  },
  {
   "cell_type": "markdown",
   "id": "b3d487d6-1276-4433-920d-2b7029182cde",
   "metadata": {},
   "source": [
    "## A data structure to organize it!"
   ]
  },
  {
   "cell_type": "markdown",
   "id": "c58f35ed-5d5f-4157-bb8a-698260bcb5d1",
   "metadata": {},
   "source": [
    "Let's improve `preprocess_txt_lines` <br>\n",
    "We use a list of dictionaries:<br>\n",
    "[{<br> **line_number:** 0<br>, **target:** \"METHODS\"<br> , **text:** \"Further , there was a clinically relevant reduction in the serum levels\"<br> , **total_lines:** 11 <br>}]"
   ]
  },
  {
   "cell_type": "code",
   "execution_count": 4,
   "id": "ee14db2a-f6a8-4a6b-8ab3-9e4025a4392e",
   "metadata": {
    "tags": []
   },
   "outputs": [],
   "source": [
    "def preprocess_txt_lines(filename):\n",
    "    with open(filename, \"r\") as file:\n",
    "        processed_lines = []  # Flat list to store all dictionaries\n",
    "        section_start_idx = 0\n",
    "        i = 1\n",
    "        for line in file:\n",
    "            if line.startswith(\"###\"):\n",
    "                if section_start_idx < len(processed_lines):\n",
    "                    section_line_count = i - 2\n",
    "                    for j in range(section_start_idx, len(processed_lines)):\n",
    "                        processed_lines[j][\"line_count\"] = section_line_count\n",
    "                section_start_idx = len(processed_lines)\n",
    "                i = 1\n",
    "                continue\n",
    "            if not line.strip():\n",
    "                continue\n",
    "            line_number = i\n",
    "            words = line.strip().split()\n",
    "            target = words[0] if words else \"\"\n",
    "            text = \" \".join(words[1:])\n",
    "            processed_lines.append({\"line_number\": line_number, \"target\": target, \"text\": text})\n",
    "            i += 1\n",
    "        if section_start_idx < len(processed_lines):\n",
    "            section_line_count = i - 2\n",
    "            for j in range(section_start_idx, len(processed_lines)):\n",
    "                processed_lines[j][\"line_count\"] = section_line_count\n",
    "        return processed_lines\n"
   ]
  },
  {
   "cell_type": "code",
   "execution_count": 5,
   "id": "9ab93eb2-c8ac-4c7d-bc12-fc17098ab014",
   "metadata": {
    "tags": []
   },
   "outputs": [
    {
     "name": "stdout",
     "output_type": "stream",
     "text": [
      "CPU times: total: 78.1 ms\n",
      "Wall time: 742 ms\n"
     ]
    }
   ],
   "source": [
    "%%time \n",
    "train_samples = preprocess_txt_lines(filenames[0])\n",
    "test_samples = preprocess_txt_lines(filenames[1])\n",
    "val_samples = preprocess_txt_lines(filenames[2])"
   ]
  },
  {
   "cell_type": "code",
   "execution_count": 6,
   "id": "383c001c-1815-4f21-b705-01b130309523",
   "metadata": {
    "tags": []
   },
   "outputs": [],
   "source": [
    "train_df = pd.DataFrame(train_samples)\n",
    "test_df = pd.DataFrame(test_samples)\n",
    "val_df = pd.DataFrame(val_samples)"
   ]
  },
  {
   "cell_type": "code",
   "execution_count": 7,
   "id": "80d85789-5259-4e60-b6f9-a7b72da4f41d",
   "metadata": {
    "tags": []
   },
   "outputs": [
    {
     "data": {
      "text/html": [
       "<div>\n",
       "<style scoped>\n",
       "    .dataframe tbody tr th:only-of-type {\n",
       "        vertical-align: middle;\n",
       "    }\n",
       "\n",
       "    .dataframe tbody tr th {\n",
       "        vertical-align: top;\n",
       "    }\n",
       "\n",
       "    .dataframe thead th {\n",
       "        text-align: right;\n",
       "    }\n",
       "</style>\n",
       "<table border=\"1\" class=\"dataframe\">\n",
       "  <thead>\n",
       "    <tr style=\"text-align: right;\">\n",
       "      <th></th>\n",
       "      <th>line_number</th>\n",
       "      <th>target</th>\n",
       "      <th>text</th>\n",
       "      <th>line_count</th>\n",
       "    </tr>\n",
       "  </thead>\n",
       "  <tbody>\n",
       "    <tr>\n",
       "      <th>0</th>\n",
       "      <td>1</td>\n",
       "      <td>OBJECTIVE</td>\n",
       "      <td>To investigate the efficacy of @ weeks of dail...</td>\n",
       "      <td>11</td>\n",
       "    </tr>\n",
       "    <tr>\n",
       "      <th>1</th>\n",
       "      <td>2</td>\n",
       "      <td>METHODS</td>\n",
       "      <td>A total of @ patients with primary knee OA wer...</td>\n",
       "      <td>11</td>\n",
       "    </tr>\n",
       "    <tr>\n",
       "      <th>2</th>\n",
       "      <td>3</td>\n",
       "      <td>METHODS</td>\n",
       "      <td>Outcome measures included pain reduction and i...</td>\n",
       "      <td>11</td>\n",
       "    </tr>\n",
       "    <tr>\n",
       "      <th>3</th>\n",
       "      <td>4</td>\n",
       "      <td>METHODS</td>\n",
       "      <td>Pain was assessed using the visual analog pain...</td>\n",
       "      <td>11</td>\n",
       "    </tr>\n",
       "    <tr>\n",
       "      <th>4</th>\n",
       "      <td>5</td>\n",
       "      <td>METHODS</td>\n",
       "      <td>Secondary outcome measures included the Wester...</td>\n",
       "      <td>11</td>\n",
       "    </tr>\n",
       "    <tr>\n",
       "      <th>5</th>\n",
       "      <td>6</td>\n",
       "      <td>METHODS</td>\n",
       "      <td>Serum levels of interleukin @ ( IL-@ ) , IL-@ ...</td>\n",
       "      <td>11</td>\n",
       "    </tr>\n",
       "    <tr>\n",
       "      <th>6</th>\n",
       "      <td>7</td>\n",
       "      <td>RESULTS</td>\n",
       "      <td>There was a clinically relevant reduction in t...</td>\n",
       "      <td>11</td>\n",
       "    </tr>\n",
       "    <tr>\n",
       "      <th>7</th>\n",
       "      <td>8</td>\n",
       "      <td>RESULTS</td>\n",
       "      <td>The mean difference between treatment arms ( @...</td>\n",
       "      <td>11</td>\n",
       "    </tr>\n",
       "    <tr>\n",
       "      <th>8</th>\n",
       "      <td>9</td>\n",
       "      <td>RESULTS</td>\n",
       "      <td>Further , there was a clinically relevant redu...</td>\n",
       "      <td>11</td>\n",
       "    </tr>\n",
       "    <tr>\n",
       "      <th>9</th>\n",
       "      <td>10</td>\n",
       "      <td>RESULTS</td>\n",
       "      <td>These differences remained significant at @ we...</td>\n",
       "      <td>11</td>\n",
       "    </tr>\n",
       "    <tr>\n",
       "      <th>10</th>\n",
       "      <td>11</td>\n",
       "      <td>RESULTS</td>\n",
       "      <td>The Outcome Measures in Rheumatology Clinical ...</td>\n",
       "      <td>11</td>\n",
       "    </tr>\n",
       "    <tr>\n",
       "      <th>11</th>\n",
       "      <td>12</td>\n",
       "      <td>CONCLUSIONS</td>\n",
       "      <td>Low-dose oral prednisolone had both a short-te...</td>\n",
       "      <td>11</td>\n",
       "    </tr>\n",
       "    <tr>\n",
       "      <th>12</th>\n",
       "      <td>1</td>\n",
       "      <td>BACKGROUND</td>\n",
       "      <td>Emotional eating is associated with overeating...</td>\n",
       "      <td>10</td>\n",
       "    </tr>\n",
       "    <tr>\n",
       "      <th>13</th>\n",
       "      <td>2</td>\n",
       "      <td>BACKGROUND</td>\n",
       "      <td>Yet , empirical evidence for individual ( trai...</td>\n",
       "      <td>10</td>\n",
       "    </tr>\n",
       "    <tr>\n",
       "      <th>14</th>\n",
       "      <td>3</td>\n",
       "      <td>OBJECTIVE</td>\n",
       "      <td>The aim of this study was to test if attention...</td>\n",
       "      <td>10</td>\n",
       "    </tr>\n",
       "    <tr>\n",
       "      <th>15</th>\n",
       "      <td>4</td>\n",
       "      <td>OBJECTIVE</td>\n",
       "      <td>It was expected that emotional eating is predi...</td>\n",
       "      <td>10</td>\n",
       "    </tr>\n",
       "    <tr>\n",
       "      <th>16</th>\n",
       "      <td>5</td>\n",
       "      <td>METHODS</td>\n",
       "      <td>Participants ( N = @ ) were randomly assigned ...</td>\n",
       "      <td>10</td>\n",
       "    </tr>\n",
       "    <tr>\n",
       "      <th>17</th>\n",
       "      <td>6</td>\n",
       "      <td>METHODS</td>\n",
       "      <td>Attentional biases for high caloric foods were...</td>\n",
       "      <td>10</td>\n",
       "    </tr>\n",
       "    <tr>\n",
       "      <th>18</th>\n",
       "      <td>7</td>\n",
       "      <td>METHODS</td>\n",
       "      <td>Self-reported emotional eating was assessed wi...</td>\n",
       "      <td>10</td>\n",
       "    </tr>\n",
       "    <tr>\n",
       "      <th>19</th>\n",
       "      <td>8</td>\n",
       "      <td>RESULTS</td>\n",
       "      <td>Hierarchical multivariate regression modeling ...</td>\n",
       "      <td>10</td>\n",
       "    </tr>\n",
       "    <tr>\n",
       "      <th>20</th>\n",
       "      <td>9</td>\n",
       "      <td>RESULTS</td>\n",
       "      <td>Yet , attention maintenance on food cues was s...</td>\n",
       "      <td>10</td>\n",
       "    </tr>\n",
       "    <tr>\n",
       "      <th>21</th>\n",
       "      <td>10</td>\n",
       "      <td>CONCLUSIONS</td>\n",
       "      <td>The current findings show that self-reported e...</td>\n",
       "      <td>10</td>\n",
       "    </tr>\n",
       "    <tr>\n",
       "      <th>22</th>\n",
       "      <td>11</td>\n",
       "      <td>CONCLUSIONS</td>\n",
       "      <td>Results further suggest that attention mainten...</td>\n",
       "      <td>10</td>\n",
       "    </tr>\n",
       "    <tr>\n",
       "      <th>23</th>\n",
       "      <td>1</td>\n",
       "      <td>BACKGROUND</td>\n",
       "      <td>Although working smoke alarms halve deaths in ...</td>\n",
       "      <td>14</td>\n",
       "    </tr>\n",
       "    <tr>\n",
       "      <th>24</th>\n",
       "      <td>2</td>\n",
       "      <td>BACKGROUND</td>\n",
       "      <td>We tested whether theory-based education incre...</td>\n",
       "      <td>14</td>\n",
       "    </tr>\n",
       "    <tr>\n",
       "      <th>25</th>\n",
       "      <td>3</td>\n",
       "      <td>METHODS</td>\n",
       "      <td>Randomised multiarm trial , with a single arm ...</td>\n",
       "      <td>14</td>\n",
       "    </tr>\n",
       "    <tr>\n",
       "      <th>26</th>\n",
       "      <td>4</td>\n",
       "      <td>METHODS</td>\n",
       "      <td>Intervention arms : ( @ ) Full Education combi...</td>\n",
       "      <td>14</td>\n",
       "    </tr>\n",
       "    <tr>\n",
       "      <th>27</th>\n",
       "      <td>5</td>\n",
       "      <td>METHODS</td>\n",
       "      <td>Four hundred and thirty-six homes recruited th...</td>\n",
       "      <td>14</td>\n",
       "    </tr>\n",
       "    <tr>\n",
       "      <th>28</th>\n",
       "      <td>6</td>\n",
       "      <td>METHODS</td>\n",
       "      <td>Follow-up visits checked alarm operability in ...</td>\n",
       "      <td>14</td>\n",
       "    </tr>\n",
       "    <tr>\n",
       "      <th>29</th>\n",
       "      <td>7</td>\n",
       "      <td>METHODS</td>\n",
       "      <td>number of homes with working alarms defined as...</td>\n",
       "      <td>14</td>\n",
       "    </tr>\n",
       "  </tbody>\n",
       "</table>\n",
       "</div>"
      ],
      "text/plain": [
       "    line_number       target  \\\n",
       "0             1    OBJECTIVE   \n",
       "1             2      METHODS   \n",
       "2             3      METHODS   \n",
       "3             4      METHODS   \n",
       "4             5      METHODS   \n",
       "5             6      METHODS   \n",
       "6             7      RESULTS   \n",
       "7             8      RESULTS   \n",
       "8             9      RESULTS   \n",
       "9            10      RESULTS   \n",
       "10           11      RESULTS   \n",
       "11           12  CONCLUSIONS   \n",
       "12            1   BACKGROUND   \n",
       "13            2   BACKGROUND   \n",
       "14            3    OBJECTIVE   \n",
       "15            4    OBJECTIVE   \n",
       "16            5      METHODS   \n",
       "17            6      METHODS   \n",
       "18            7      METHODS   \n",
       "19            8      RESULTS   \n",
       "20            9      RESULTS   \n",
       "21           10  CONCLUSIONS   \n",
       "22           11  CONCLUSIONS   \n",
       "23            1   BACKGROUND   \n",
       "24            2   BACKGROUND   \n",
       "25            3      METHODS   \n",
       "26            4      METHODS   \n",
       "27            5      METHODS   \n",
       "28            6      METHODS   \n",
       "29            7      METHODS   \n",
       "\n",
       "                                                 text  line_count  \n",
       "0   To investigate the efficacy of @ weeks of dail...          11  \n",
       "1   A total of @ patients with primary knee OA wer...          11  \n",
       "2   Outcome measures included pain reduction and i...          11  \n",
       "3   Pain was assessed using the visual analog pain...          11  \n",
       "4   Secondary outcome measures included the Wester...          11  \n",
       "5   Serum levels of interleukin @ ( IL-@ ) , IL-@ ...          11  \n",
       "6   There was a clinically relevant reduction in t...          11  \n",
       "7   The mean difference between treatment arms ( @...          11  \n",
       "8   Further , there was a clinically relevant redu...          11  \n",
       "9   These differences remained significant at @ we...          11  \n",
       "10  The Outcome Measures in Rheumatology Clinical ...          11  \n",
       "11  Low-dose oral prednisolone had both a short-te...          11  \n",
       "12  Emotional eating is associated with overeating...          10  \n",
       "13  Yet , empirical evidence for individual ( trai...          10  \n",
       "14  The aim of this study was to test if attention...          10  \n",
       "15  It was expected that emotional eating is predi...          10  \n",
       "16  Participants ( N = @ ) were randomly assigned ...          10  \n",
       "17  Attentional biases for high caloric foods were...          10  \n",
       "18  Self-reported emotional eating was assessed wi...          10  \n",
       "19  Hierarchical multivariate regression modeling ...          10  \n",
       "20  Yet , attention maintenance on food cues was s...          10  \n",
       "21  The current findings show that self-reported e...          10  \n",
       "22  Results further suggest that attention mainten...          10  \n",
       "23  Although working smoke alarms halve deaths in ...          14  \n",
       "24  We tested whether theory-based education incre...          14  \n",
       "25  Randomised multiarm trial , with a single arm ...          14  \n",
       "26  Intervention arms : ( @ ) Full Education combi...          14  \n",
       "27  Four hundred and thirty-six homes recruited th...          14  \n",
       "28  Follow-up visits checked alarm operability in ...          14  \n",
       "29  number of homes with working alarms defined as...          14  "
      ]
     },
     "execution_count": 7,
     "metadata": {},
     "output_type": "execute_result"
    }
   ],
   "source": [
    "train_df[:30]"
   ]
  },
  {
   "cell_type": "code",
   "execution_count": 8,
   "id": "2f9c2d30-1527-4087-b8ef-bc2a945994f2",
   "metadata": {
    "tags": []
   },
   "outputs": [
    {
     "data": {
      "text/html": [
       "<div>\n",
       "<style scoped>\n",
       "    .dataframe tbody tr th:only-of-type {\n",
       "        vertical-align: middle;\n",
       "    }\n",
       "\n",
       "    .dataframe tbody tr th {\n",
       "        vertical-align: top;\n",
       "    }\n",
       "\n",
       "    .dataframe thead th {\n",
       "        text-align: right;\n",
       "    }\n",
       "</style>\n",
       "<table border=\"1\" class=\"dataframe\">\n",
       "  <thead>\n",
       "    <tr style=\"text-align: right;\">\n",
       "      <th></th>\n",
       "      <th>line_number</th>\n",
       "      <th>target</th>\n",
       "      <th>text</th>\n",
       "      <th>line_count</th>\n",
       "    </tr>\n",
       "  </thead>\n",
       "  <tbody>\n",
       "    <tr>\n",
       "      <th>0</th>\n",
       "      <td>1</td>\n",
       "      <td>BACKGROUND</td>\n",
       "      <td>This study analyzed liver function abnormaliti...</td>\n",
       "      <td>8</td>\n",
       "    </tr>\n",
       "    <tr>\n",
       "      <th>1</th>\n",
       "      <td>2</td>\n",
       "      <td>RESULTS</td>\n",
       "      <td>A post hoc analysis was conducted with the use...</td>\n",
       "      <td>8</td>\n",
       "    </tr>\n",
       "    <tr>\n",
       "      <th>2</th>\n",
       "      <td>3</td>\n",
       "      <td>RESULTS</td>\n",
       "      <td>Liver function tests ( LFTs ) were measured at...</td>\n",
       "      <td>8</td>\n",
       "    </tr>\n",
       "    <tr>\n",
       "      <th>3</th>\n",
       "      <td>4</td>\n",
       "      <td>RESULTS</td>\n",
       "      <td>Survival analyses were used to assess the asso...</td>\n",
       "      <td>8</td>\n",
       "    </tr>\n",
       "    <tr>\n",
       "      <th>4</th>\n",
       "      <td>5</td>\n",
       "      <td>RESULTS</td>\n",
       "      <td>The percentage of patients with abnormal LFTs ...</td>\n",
       "      <td>8</td>\n",
       "    </tr>\n",
       "    <tr>\n",
       "      <th>...</th>\n",
       "      <td>...</td>\n",
       "      <td>...</td>\n",
       "      <td>...</td>\n",
       "      <td>...</td>\n",
       "    </tr>\n",
       "    <tr>\n",
       "      <th>30130</th>\n",
       "      <td>14</td>\n",
       "      <td>RESULTS</td>\n",
       "      <td>There was a statistically significant between-...</td>\n",
       "      <td>17</td>\n",
       "    </tr>\n",
       "    <tr>\n",
       "      <th>30131</th>\n",
       "      <td>15</td>\n",
       "      <td>RESULTS</td>\n",
       "      <td>There were no statistically significant betwee...</td>\n",
       "      <td>17</td>\n",
       "    </tr>\n",
       "    <tr>\n",
       "      <th>30132</th>\n",
       "      <td>16</td>\n",
       "      <td>RESULTS</td>\n",
       "      <td>There was no significant association between s...</td>\n",
       "      <td>17</td>\n",
       "    </tr>\n",
       "    <tr>\n",
       "      <th>30133</th>\n",
       "      <td>17</td>\n",
       "      <td>RESULTS</td>\n",
       "      <td>No adverse effects were reported .</td>\n",
       "      <td>17</td>\n",
       "    </tr>\n",
       "    <tr>\n",
       "      <th>30134</th>\n",
       "      <td>18</td>\n",
       "      <td>CONCLUSIONS</td>\n",
       "      <td>Performing a @-week do-as-tolerated program of...</td>\n",
       "      <td>17</td>\n",
       "    </tr>\n",
       "  </tbody>\n",
       "</table>\n",
       "<p>30135 rows × 4 columns</p>\n",
       "</div>"
      ],
      "text/plain": [
       "       line_number       target  \\\n",
       "0                1   BACKGROUND   \n",
       "1                2      RESULTS   \n",
       "2                3      RESULTS   \n",
       "3                4      RESULTS   \n",
       "4                5      RESULTS   \n",
       "...            ...          ...   \n",
       "30130           14      RESULTS   \n",
       "30131           15      RESULTS   \n",
       "30132           16      RESULTS   \n",
       "30133           17      RESULTS   \n",
       "30134           18  CONCLUSIONS   \n",
       "\n",
       "                                                    text  line_count  \n",
       "0      This study analyzed liver function abnormaliti...           8  \n",
       "1      A post hoc analysis was conducted with the use...           8  \n",
       "2      Liver function tests ( LFTs ) were measured at...           8  \n",
       "3      Survival analyses were used to assess the asso...           8  \n",
       "4      The percentage of patients with abnormal LFTs ...           8  \n",
       "...                                                  ...         ...  \n",
       "30130  There was a statistically significant between-...          17  \n",
       "30131  There were no statistically significant betwee...          17  \n",
       "30132  There was no significant association between s...          17  \n",
       "30133                 No adverse effects were reported .          17  \n",
       "30134  Performing a @-week do-as-tolerated program of...          17  \n",
       "\n",
       "[30135 rows x 4 columns]"
      ]
     },
     "execution_count": 8,
     "metadata": {},
     "output_type": "execute_result"
    }
   ],
   "source": [
    "test_df"
   ]
  },
  {
   "cell_type": "code",
   "execution_count": 9,
   "id": "e7e37b5b-2c39-43d7-abdb-112d1395a1b9",
   "metadata": {
    "tags": []
   },
   "outputs": [
    {
     "data": {
      "text/html": [
       "<div>\n",
       "<style scoped>\n",
       "    .dataframe tbody tr th:only-of-type {\n",
       "        vertical-align: middle;\n",
       "    }\n",
       "\n",
       "    .dataframe tbody tr th {\n",
       "        vertical-align: top;\n",
       "    }\n",
       "\n",
       "    .dataframe thead th {\n",
       "        text-align: right;\n",
       "    }\n",
       "</style>\n",
       "<table border=\"1\" class=\"dataframe\">\n",
       "  <thead>\n",
       "    <tr style=\"text-align: right;\">\n",
       "      <th></th>\n",
       "      <th>line_number</th>\n",
       "      <th>target</th>\n",
       "      <th>text</th>\n",
       "      <th>line_count</th>\n",
       "    </tr>\n",
       "  </thead>\n",
       "  <tbody>\n",
       "    <tr>\n",
       "      <th>0</th>\n",
       "      <td>1</td>\n",
       "      <td>BACKGROUND</td>\n",
       "      <td>IgE sensitization to Aspergillus fumigatus and...</td>\n",
       "      <td>9</td>\n",
       "    </tr>\n",
       "    <tr>\n",
       "      <th>1</th>\n",
       "      <td>2</td>\n",
       "      <td>BACKGROUND</td>\n",
       "      <td>It is not clear whether these patients would b...</td>\n",
       "      <td>9</td>\n",
       "    </tr>\n",
       "    <tr>\n",
       "      <th>2</th>\n",
       "      <td>3</td>\n",
       "      <td>OBJECTIVE</td>\n",
       "      <td>We sought to determine whether a @-month cours...</td>\n",
       "      <td>9</td>\n",
       "    </tr>\n",
       "    <tr>\n",
       "      <th>3</th>\n",
       "      <td>4</td>\n",
       "      <td>METHODS</td>\n",
       "      <td>Asthmatic patients who were IgE sensitized to ...</td>\n",
       "      <td>9</td>\n",
       "    </tr>\n",
       "    <tr>\n",
       "      <th>4</th>\n",
       "      <td>5</td>\n",
       "      <td>METHODS</td>\n",
       "      <td>Primary outcomes were improvement in quality o...</td>\n",
       "      <td>9</td>\n",
       "    </tr>\n",
       "    <tr>\n",
       "      <th>...</th>\n",
       "      <td>...</td>\n",
       "      <td>...</td>\n",
       "      <td>...</td>\n",
       "      <td>...</td>\n",
       "    </tr>\n",
       "    <tr>\n",
       "      <th>30207</th>\n",
       "      <td>10</td>\n",
       "      <td>RESULTS</td>\n",
       "      <td>Pruritus occurred more frequently with the act...</td>\n",
       "      <td>13</td>\n",
       "    </tr>\n",
       "    <tr>\n",
       "      <th>30208</th>\n",
       "      <td>11</td>\n",
       "      <td>RESULTS</td>\n",
       "      <td>Three patients in the active-regimen group ( @...</td>\n",
       "      <td>13</td>\n",
       "    </tr>\n",
       "    <tr>\n",
       "      <th>30209</th>\n",
       "      <td>12</td>\n",
       "      <td>RESULTS</td>\n",
       "      <td>Hemoglobin values of grade @ ( @ to &lt; @ g per ...</td>\n",
       "      <td>13</td>\n",
       "    </tr>\n",
       "    <tr>\n",
       "      <th>30210</th>\n",
       "      <td>13</td>\n",
       "      <td>CONCLUSIONS</td>\n",
       "      <td>Rates of response to a @-week interferon-free ...</td>\n",
       "      <td>13</td>\n",
       "    </tr>\n",
       "    <tr>\n",
       "      <th>30211</th>\n",
       "      <td>14</td>\n",
       "      <td>CONCLUSIONS</td>\n",
       "      <td>( Funded by AbbVie ; SAPPHIRE-II ClinicalTrial...</td>\n",
       "      <td>13</td>\n",
       "    </tr>\n",
       "  </tbody>\n",
       "</table>\n",
       "<p>30212 rows × 4 columns</p>\n",
       "</div>"
      ],
      "text/plain": [
       "       line_number       target  \\\n",
       "0                1   BACKGROUND   \n",
       "1                2   BACKGROUND   \n",
       "2                3    OBJECTIVE   \n",
       "3                4      METHODS   \n",
       "4                5      METHODS   \n",
       "...            ...          ...   \n",
       "30207           10      RESULTS   \n",
       "30208           11      RESULTS   \n",
       "30209           12      RESULTS   \n",
       "30210           13  CONCLUSIONS   \n",
       "30211           14  CONCLUSIONS   \n",
       "\n",
       "                                                    text  line_count  \n",
       "0      IgE sensitization to Aspergillus fumigatus and...           9  \n",
       "1      It is not clear whether these patients would b...           9  \n",
       "2      We sought to determine whether a @-month cours...           9  \n",
       "3      Asthmatic patients who were IgE sensitized to ...           9  \n",
       "4      Primary outcomes were improvement in quality o...           9  \n",
       "...                                                  ...         ...  \n",
       "30207  Pruritus occurred more frequently with the act...          13  \n",
       "30208  Three patients in the active-regimen group ( @...          13  \n",
       "30209  Hemoglobin values of grade @ ( @ to < @ g per ...          13  \n",
       "30210  Rates of response to a @-week interferon-free ...          13  \n",
       "30211  ( Funded by AbbVie ; SAPPHIRE-II ClinicalTrial...          13  \n",
       "\n",
       "[30212 rows x 4 columns]"
      ]
     },
     "execution_count": 9,
     "metadata": {},
     "output_type": "execute_result"
    }
   ],
   "source": [
    "val_df"
   ]
  },
  {
   "cell_type": "code",
   "execution_count": 10,
   "id": "01b54405-7587-4648-b721-7ef2027f92f9",
   "metadata": {
    "tags": []
   },
   "outputs": [
    {
     "data": {
      "text/plain": [
       "target\n",
       "METHODS        59353\n",
       "RESULTS        57953\n",
       "CONCLUSIONS    27168\n",
       "BACKGROUND     21727\n",
       "OBJECTIVE      13839\n",
       "Name: count, dtype: int64"
      ]
     },
     "execution_count": 10,
     "metadata": {},
     "output_type": "execute_result"
    }
   ],
   "source": [
    "train_df.target.value_counts()"
   ]
  },
  {
   "cell_type": "code",
   "execution_count": 11,
   "id": "4390065d-2b53-49dd-8d54-255238d61025",
   "metadata": {
    "tags": []
   },
   "outputs": [
    {
     "name": "stdout",
     "output_type": "stream",
     "text": [
      "11.789135747611642\n"
     ]
    },
    {
     "data": {
      "image/png": "[encoded data removed]",
      "text/plain": [
       "<Figure size 640x480 with 1 Axes>"
      ]
     },
     "metadata": {},
     "output_type": "display_data"
    }
   ],
   "source": [
    "train_df.line_count.hist(bins=20)\n",
    "print(train_df.line_count.mean())"
   ]
  },
  {
   "cell_type": "code",
   "execution_count": 12,
   "id": "0a9da595-1529-4cf7-8c28-e07372e0975d",
   "metadata": {
    "tags": []
   },
   "outputs": [],
   "source": [
    "train_x = train_df[\"text\"].to_numpy()\n",
    "train_y = train_df[\"target\"].to_numpy()\n",
    "\n",
    "test_x = test_df[\"text\"].to_numpy()\n",
    "test_y = test_df[\"target\"].to_numpy()\n",
    "\n",
    "val_x = val_df[\"text\"].to_numpy()\n",
    "val_y = val_df[\"target\"].to_numpy()"
   ]
  },
  {
   "cell_type": "markdown",
   "id": "2db93c86-b38e-4002-a125-9abda08f7046",
   "metadata": {},
   "source": [
    "## One Hot encoding(Baseline)"
   ]
  },
  {
   "cell_type": "code",
   "execution_count": 13,
   "id": "2ee9349e-0608-4d28-8bc4-ae3b5c1a3567",
   "metadata": {
    "tags": []
   },
   "outputs": [
    {
     "data": {
      "text/plain": [
       "array([[0., 0., 0., 1., 0.],\n",
       "       [0., 0., 1., 0., 0.],\n",
       "       [0., 0., 1., 0., 0.],\n",
       "       ...,\n",
       "       [0., 0., 0., 0., 1.],\n",
       "       [0., 1., 0., 0., 0.],\n",
       "       [0., 1., 0., 0., 0.]])"
      ]
     },
     "execution_count": 13,
     "metadata": {},
     "output_type": "execute_result"
    }
   ],
   "source": [
    "from sklearn.preprocessing import OneHotEncoder\n",
    "\n",
    "ohe = OneHotEncoder(sparse_output=False)\n",
    "train_ohe = ohe.fit_transform(train_df[\"target\"].to_numpy().reshape(-1,1))\n",
    "val_ohe = ohe.fit_transform(val_df[\"target\"].to_numpy().reshape(-1,1))\n",
    "test_ohe = ohe.fit_transform(test_df[\"target\"].to_numpy().reshape(-1,1))\n",
    "\n",
    "train_ohe"
   ]
  },
  {
   "cell_type": "markdown",
   "id": "01ccd689-ffac-4368-ae29-5560ea110e29",
   "metadata": {},
   "source": [
    "## Label encoding(ANN)"
   ]
  },
  {
   "cell_type": "code",
   "execution_count": 14,
   "id": "a08f5301-c56e-4196-a981-9e3efa095440",
   "metadata": {
    "tags": []
   },
   "outputs": [
    {
     "name": "stdout",
     "output_type": "stream",
     "text": [
      "[3 2 2 ... 4 1 1]\n",
      "{'BACKGROUND': 0, 'CONCLUSIONS': 1, 'METHODS': 2, 'OBJECTIVE': 3, 'RESULTS': 4}\n"
     ]
    }
   ],
   "source": [
    "from sklearn.preprocessing import LabelEncoder\n",
    "\n",
    "le = LabelEncoder()\n",
    "train_le = le.fit_transform(train_df[\"target\"].to_numpy())\n",
    "val_le = le.fit_transform(val_df[\"target\"].to_numpy())\n",
    "test_le = le.fit_transform(test_df[\"target\"].to_numpy())\n",
    "\n",
    "print(train_le)\n",
    "print(dict(zip(le.classes_, le.transform(le.classes_))))"
   ]
  },
  {
   "cell_type": "markdown",
   "id": "44798aea-2bea-4021-a3e8-7c2f5b3d1f2a",
   "metadata": {},
   "source": [
    "## Baseline model(Machine learning naive bayes)"
   ]
  },
  {
   "cell_type": "code",
   "execution_count": 15,
   "id": "8209002f-624b-4a10-bf6b-a81676e1d1fc",
   "metadata": {
    "tags": []
   },
   "outputs": [
    {
     "data": {
      "text/plain": [
       "0.7218323844829869"
      ]
     },
     "execution_count": 15,
     "metadata": {},
     "output_type": "execute_result"
    }
   ],
   "source": [
    "from sklearn.feature_extraction.text import TfidfVectorizer\n",
    "from sklearn.naive_bayes import MultinomialNB\n",
    "from sklearn.pipeline import Pipeline\n",
    "model_0 = Pipeline([(\"tokenizing\",TfidfVectorizer()),(\"Naive\",MultinomialNB())])\n",
    "\n",
    "model_0.fit(X=train_x,y=train_le)\n",
    "model_0.score(X=val_x,y=val_le)"
   ]
  },
  {
   "cell_type": "code",
   "execution_count": 16,
   "id": "0a9ba167-18ff-4e86-8c5c-d33078fa8a2e",
   "metadata": {
    "tags": []
   },
   "outputs": [
    {
     "data": {
      "text/plain": [
       "line_number                                                    1\n",
       "target                                                BACKGROUND\n",
       "text           Emotional eating is associated with overeating...\n",
       "line_count                                                    10\n",
       "Name: 12, dtype: object"
      ]
     },
     "execution_count": 16,
     "metadata": {},
     "output_type": "execute_result"
    }
   ],
   "source": [
    "train_df.iloc[12]"
   ]
  },
  {
   "cell_type": "code",
   "execution_count": 17,
   "id": "3d5e0c4f-3cd7-4212-b0e1-5a22ad727e7a",
   "metadata": {
    "tags": []
   },
   "outputs": [
    {
     "data": {
      "text/plain": [
       "array([0])"
      ]
     },
     "execution_count": 17,
     "metadata": {},
     "output_type": "execute_result"
    }
   ],
   "source": [
    "model_0.predict([train_x[12]])"
   ]
  },
  {
   "cell_type": "markdown",
   "id": "8e779713-81f8-4d4d-bcb5-f7356bc1f315",
   "metadata": {},
   "source": [
    "## Conv1D with token embedding"
   ]
  },
  {
   "cell_type": "markdown",
   "id": "8cc41674-6677-4588-b021-8fd96d79aedb",
   "metadata": {},
   "source": [
    "1. See how long is each sentence on average?"
   ]
  },
  {
   "cell_type": "code",
   "execution_count": 18,
   "id": "c36cf5f9-ab0e-4351-86e7-88780debf936",
   "metadata": {
    "tags": []
   },
   "outputs": [
    {
     "data": {
      "text/plain": [
       "'To investigate the efficacy of @ weeks of daily low-dose oral prednisolone in improving pain , mobility , and systemic low-grade inflammation in the short term and whether the effect would be sustained at @ weeks in older adults with moderate to severe knee osteoarthritis ( OA ) .'"
      ]
     },
     "execution_count": 18,
     "metadata": {},
     "output_type": "execute_result"
    }
   ],
   "source": [
    "train_x[0]"
   ]
  },
  {
   "cell_type": "code",
   "execution_count": 19,
   "id": "d69ff255-d728-4538-9fac-b9e5d7f7e7c0",
   "metadata": {
    "tags": []
   },
   "outputs": [
    {
     "name": "stderr",
     "output_type": "stream",
     "text": [
      "C:\\ProgramData\\anaconda3\\Lib\\site-packages\\seaborn\\_oldcore.py:1498: FutureWarning: is_categorical_dtype is deprecated and will be removed in a future version. Use isinstance(dtype, CategoricalDtype) instead\n",
      "  if pd.api.types.is_categorical_dtype(vector):\n",
      "C:\\ProgramData\\anaconda3\\Lib\\site-packages\\seaborn\\_oldcore.py:1119: FutureWarning: use_inf_as_na option is deprecated and will be removed in a future version. Convert inf values to NaN before operating instead.\n",
      "  with pd.option_context('mode.use_inf_as_na', True):\n"
     ]
    },
    {
     "name": "stdout",
     "output_type": "stream",
     "text": [
      "26.338269273494777 55.0\n"
     ]
    },
    {
     "data": {
      "image/png": "[encoded data removed]",
      "text/plain": [
       "<Figure size 640x480 with 1 Axes>"
      ]
     },
     "metadata": {},
     "output_type": "display_data"
    }
   ],
   "source": [
    "sent_lens = [len(sentence.split()) for sentence in train_x]\n",
    "mean_sent_lens = np.mean(sent_lens)\n",
    "sns.histplot(sent_lens,bins=40,kde=True,color=\"gray\",label=\"Distribiotion of sentences token\")\n",
    "print(mean_sent_lens,np.percentile(sent_lens,q=95))\n",
    "plt.axvline(mean_sent_lens,color=\"red\",label=\"Mean\",linewidth=3)\n",
    "plt.axvline(np.percentile(sent_lens,q=95),label=\"95% Percentile\",linewidth=3)\n",
    "plt.legend()\n",
    "\n",
    "MaxVocab = 10000\n",
    "MaxSentenceTokens = 55"
   ]
  },
  {
   "cell_type": "markdown",
   "id": "19b023fc-a464-466b-b897-24f93f63cf60",
   "metadata": {},
   "source": [
    "## Tokenazation"
   ]
  },
  {
   "cell_type": "code",
   "execution_count": 20,
   "id": "de8167cd-da36-407f-9478-166e57ec129c",
   "metadata": {
    "tags": []
   },
   "outputs": [
    {
     "name": "stdout",
     "output_type": "stream",
     "text": [
      "Outcome measures included pain reduction and improvement in function scores and systemic inflammation markers .  ==  tf.Tensor(\n",
      "[[ 86 213 121  65 169   3 194   5 149 119   3 670 636 747   0   0   0   0\n",
      "    0   0   0   0   0   0   0   0   0   0   0   0   0   0   0   0   0   0\n",
      "    0   0   0   0   0   0   0   0   0   0   0   0   0   0   0   0   0   0\n",
      "    0]], shape=(1, 55), dtype=int64)\n",
      "Vocabulary Size:  10000\n",
      "Top 10 most repeated:  ['', '[UNK]', 'the', 'and', 'of', 'in', 'to', 'with', 'a', 'were']\n",
      "Bottom 10 least repeated:  ['expanding', 'exhibiting', 'exercisebased', 'evaluators', 'evacuation', 'ethnically', 'ethambutol', 'ert', 'epicardial', 'ephedrine']\n"
     ]
    }
   ],
   "source": [
    "from tensorflow.keras.layers import TextVectorization\n",
    "from tensorflow.keras.layers import Embedding\n",
    "\n",
    "text_vector = TextVectorization(output_sequence_length= MaxSentenceTokens, max_tokens = MaxVocab)\n",
    "text_vector.adapt(train_x)\n",
    "print(train_x[2],\" == \",text_vector([train_x[2]]))\n",
    "print(\"Vocabulary Size: \",text_vector.vocabulary_size())\n",
    "print(\"Top 10 most repeated: \",text_vector.get_vocabulary()[:10])\n",
    "print(\"Bottom 10 least repeated: \",text_vector.get_vocabulary()[-10:])"
   ]
  },
  {
   "cell_type": "markdown",
   "id": "260e9e44-d996-42bf-b947-829401ade4ea",
   "metadata": {},
   "source": [
    "## Embedding"
   ]
  },
  {
   "cell_type": "code",
   "execution_count": 27,
   "id": "f4e8e96a-0f12-44a3-9e94-fd2b25c10178",
   "metadata": {
    "tags": []
   },
   "outputs": [
    {
     "data": {
      "text/plain": [
       "<tf.Tensor: shape=(1, 55, 128), dtype=float32, numpy=\n",
       "array([[[-0.01631999,  0.031984  ,  0.00476489, ...,  0.01044031,\n",
       "          0.04080457,  0.00599877],\n",
       "        [-0.03964945,  0.03390511,  0.04499412, ...,  0.00855775,\n",
       "          0.03153724, -0.03121504],\n",
       "        [ 0.01202201, -0.04972878,  0.03305184, ...,  0.04795431,\n",
       "          0.04253311, -0.0132736 ],\n",
       "        ...,\n",
       "        [ 0.04731264, -0.03470482,  0.03236574, ...,  0.00857327,\n",
       "         -0.04024804, -0.01978463],\n",
       "        [ 0.04731264, -0.03470482,  0.03236574, ...,  0.00857327,\n",
       "         -0.04024804, -0.01978463],\n",
       "        [ 0.04731264, -0.03470482,  0.03236574, ...,  0.00857327,\n",
       "         -0.04024804, -0.01978463]]], dtype=float32)>"
      ]
     },
     "execution_count": 27,
     "metadata": {},
     "output_type": "execute_result"
    }
   ],
   "source": [
    "from tensorflow.keras.layers import Embedding\n",
    "\n",
    "embedding_vector = Embedding(input_dim=MaxVocab,output_dim=128)\n",
    "embedded_sample = embedding_vector(text_vector(np.array([train_x[22]])))\n",
    "embedded_sample"
   ]
  },
  {
   "cell_type": "code",
   "execution_count": 31,
   "id": "3aead4f4-e72c-433c-969b-c8a2e4775e55",
   "metadata": {
    "tags": []
   },
   "outputs": [
    {
     "data": {
      "text/html": [
       "<pre style=\"white-space:pre;overflow-x:auto;line-height:normal;font-family:Menlo,'DejaVu Sans Mono',consolas,'Courier New',monospace\"><span style=\"font-weight: bold\">Model: \"sequential_3\"</span>\n",
       "</pre>\n"
      ],
      "text/plain": [
       "\u001b[1mModel: \"sequential_3\"\u001b[0m\n"
      ]
     },
     "metadata": {},
     "output_type": "display_data"
    },
    {
     "data": {
      "text/html": [
       "<pre style=\"white-space:pre;overflow-x:auto;line-height:normal;font-family:Menlo,'DejaVu Sans Mono',consolas,'Courier New',monospace\">┏━━━━━━━━━━━━━━━━━━━━━━━━━━━━━━━━━┳━━━━━━━━━━━━━━━━━━━━━━━━┳━━━━━━━━━━━━━━━┓\n",
       "┃<span style=\"font-weight: bold\"> Layer (type)                    </span>┃<span style=\"font-weight: bold\"> Output Shape           </span>┃<span style=\"font-weight: bold\">       Param # </span>┃\n",
       "┡━━━━━━━━━━━━━━━━━━━━━━━━━━━━━━━━━╇━━━━━━━━━━━━━━━━━━━━━━━━╇━━━━━━━━━━━━━━━┩\n",
       "│ text_vectorization              │ (<span style=\"color: #00d7ff; text-decoration-color: #00d7ff\">None</span>, <span style=\"color: #00af00; text-decoration-color: #00af00\">55</span>)             │             <span style=\"color: #00af00; text-decoration-color: #00af00\">0</span> │\n",
       "│ (<span style=\"color: #0087ff; text-decoration-color: #0087ff\">TextVectorization</span>)             │                        │               │\n",
       "├─────────────────────────────────┼────────────────────────┼───────────────┤\n",
       "│ embedding_5 (<span style=\"color: #0087ff; text-decoration-color: #0087ff\">Embedding</span>)         │ (<span style=\"color: #00d7ff; text-decoration-color: #00d7ff\">None</span>, <span style=\"color: #00af00; text-decoration-color: #00af00\">55</span>, <span style=\"color: #00af00; text-decoration-color: #00af00\">128</span>)        │     <span style=\"color: #00af00; text-decoration-color: #00af00\">1,280,000</span> │\n",
       "├─────────────────────────────────┼────────────────────────┼───────────────┤\n",
       "│ conv1d_6 (<span style=\"color: #0087ff; text-decoration-color: #0087ff\">Conv1D</span>)               │ (<span style=\"color: #00d7ff; text-decoration-color: #00d7ff\">None</span>, <span style=\"color: #00af00; text-decoration-color: #00af00\">51</span>, <span style=\"color: #00af00; text-decoration-color: #00af00\">64</span>)         │        <span style=\"color: #00af00; text-decoration-color: #00af00\">41,024</span> │\n",
       "├─────────────────────────────────┼────────────────────────┼───────────────┤\n",
       "│ conv1d_7 (<span style=\"color: #0087ff; text-decoration-color: #0087ff\">Conv1D</span>)               │ (<span style=\"color: #00d7ff; text-decoration-color: #00d7ff\">None</span>, <span style=\"color: #00af00; text-decoration-color: #00af00\">47</span>, <span style=\"color: #00af00; text-decoration-color: #00af00\">64</span>)         │        <span style=\"color: #00af00; text-decoration-color: #00af00\">20,544</span> │\n",
       "├─────────────────────────────────┼────────────────────────┼───────────────┤\n",
       "│ global_average_pooling1d_3      │ (<span style=\"color: #00d7ff; text-decoration-color: #00d7ff\">None</span>, <span style=\"color: #00af00; text-decoration-color: #00af00\">64</span>)             │             <span style=\"color: #00af00; text-decoration-color: #00af00\">0</span> │\n",
       "│ (<span style=\"color: #0087ff; text-decoration-color: #0087ff\">GlobalAveragePooling1D</span>)        │                        │               │\n",
       "├─────────────────────────────────┼────────────────────────┼───────────────┤\n",
       "│ dense_6 (<span style=\"color: #0087ff; text-decoration-color: #0087ff\">Dense</span>)                 │ (<span style=\"color: #00d7ff; text-decoration-color: #00d7ff\">None</span>, <span style=\"color: #00af00; text-decoration-color: #00af00\">64</span>)             │         <span style=\"color: #00af00; text-decoration-color: #00af00\">4,160</span> │\n",
       "├─────────────────────────────────┼────────────────────────┼───────────────┤\n",
       "│ dense_7 (<span style=\"color: #0087ff; text-decoration-color: #0087ff\">Dense</span>)                 │ (<span style=\"color: #00d7ff; text-decoration-color: #00d7ff\">None</span>, <span style=\"color: #00af00; text-decoration-color: #00af00\">5</span>)              │           <span style=\"color: #00af00; text-decoration-color: #00af00\">325</span> │\n",
       "└─────────────────────────────────┴────────────────────────┴───────────────┘\n",
       "</pre>\n"
      ],
      "text/plain": [
       "┏━━━━━━━━━━━━━━━━━━━━━━━━━━━━━━━━━┳━━━━━━━━━━━━━━━━━━━━━━━━┳━━━━━━━━━━━━━━━┓\n",
       "┃\u001b[1m \u001b[0m\u001b[1mLayer (type)                   \u001b[0m\u001b[1m \u001b[0m┃\u001b[1m \u001b[0m\u001b[1mOutput Shape          \u001b[0m\u001b[1m \u001b[0m┃\u001b[1m \u001b[0m\u001b[1m      Param #\u001b[0m\u001b[1m \u001b[0m┃\n",
       "┡━━━━━━━━━━━━━━━━━━━━━━━━━━━━━━━━━╇━━━━━━━━━━━━━━━━━━━━━━━━╇━━━━━━━━━━━━━━━┩\n",
       "│ text_vectorization              │ (\u001b[38;5;45mNone\u001b[0m, \u001b[38;5;34m55\u001b[0m)             │             \u001b[38;5;34m0\u001b[0m │\n",
       "│ (\u001b[38;5;33mTextVectorization\u001b[0m)             │                        │               │\n",
       "├─────────────────────────────────┼────────────────────────┼───────────────┤\n",
       "│ embedding_5 (\u001b[38;5;33mEmbedding\u001b[0m)         │ (\u001b[38;5;45mNone\u001b[0m, \u001b[38;5;34m55\u001b[0m, \u001b[38;5;34m128\u001b[0m)        │     \u001b[38;5;34m1,280,000\u001b[0m │\n",
       "├─────────────────────────────────┼────────────────────────┼───────────────┤\n",
       "│ conv1d_6 (\u001b[38;5;33mConv1D\u001b[0m)               │ (\u001b[38;5;45mNone\u001b[0m, \u001b[38;5;34m51\u001b[0m, \u001b[38;5;34m64\u001b[0m)         │        \u001b[38;5;34m41,024\u001b[0m │\n",
       "├─────────────────────────────────┼────────────────────────┼───────────────┤\n",
       "│ conv1d_7 (\u001b[38;5;33mConv1D\u001b[0m)               │ (\u001b[38;5;45mNone\u001b[0m, \u001b[38;5;34m47\u001b[0m, \u001b[38;5;34m64\u001b[0m)         │        \u001b[38;5;34m20,544\u001b[0m │\n",
       "├─────────────────────────────────┼────────────────────────┼───────────────┤\n",
       "│ global_average_pooling1d_3      │ (\u001b[38;5;45mNone\u001b[0m, \u001b[38;5;34m64\u001b[0m)             │             \u001b[38;5;34m0\u001b[0m │\n",
       "│ (\u001b[38;5;33mGlobalAveragePooling1D\u001b[0m)        │                        │               │\n",
       "├─────────────────────────────────┼────────────────────────┼───────────────┤\n",
       "│ dense_6 (\u001b[38;5;33mDense\u001b[0m)                 │ (\u001b[38;5;45mNone\u001b[0m, \u001b[38;5;34m64\u001b[0m)             │         \u001b[38;5;34m4,160\u001b[0m │\n",
       "├─────────────────────────────────┼────────────────────────┼───────────────┤\n",
       "│ dense_7 (\u001b[38;5;33mDense\u001b[0m)                 │ (\u001b[38;5;45mNone\u001b[0m, \u001b[38;5;34m5\u001b[0m)              │           \u001b[38;5;34m325\u001b[0m │\n",
       "└─────────────────────────────────┴────────────────────────┴───────────────┘\n"
      ]
     },
     "metadata": {},
     "output_type": "display_data"
    },
    {
     "data": {
      "text/html": [
       "<pre style=\"white-space:pre;overflow-x:auto;line-height:normal;font-family:Menlo,'DejaVu Sans Mono',consolas,'Courier New',monospace\"><span style=\"font-weight: bold\"> Total params: </span><span style=\"color: #00af00; text-decoration-color: #00af00\">1,346,053</span> (5.13 MB)\n",
       "</pre>\n"
      ],
      "text/plain": [
       "\u001b[1m Total params: \u001b[0m\u001b[38;5;34m1,346,053\u001b[0m (5.13 MB)\n"
      ]
     },
     "metadata": {},
     "output_type": "display_data"
    },
    {
     "data": {
      "text/html": [
       "<pre style=\"white-space:pre;overflow-x:auto;line-height:normal;font-family:Menlo,'DejaVu Sans Mono',consolas,'Courier New',monospace\"><span style=\"font-weight: bold\"> Trainable params: </span><span style=\"color: #00af00; text-decoration-color: #00af00\">1,346,053</span> (5.13 MB)\n",
       "</pre>\n"
      ],
      "text/plain": [
       "\u001b[1m Trainable params: \u001b[0m\u001b[38;5;34m1,346,053\u001b[0m (5.13 MB)\n"
      ]
     },
     "metadata": {},
     "output_type": "display_data"
    },
    {
     "data": {
      "text/html": [
       "<pre style=\"white-space:pre;overflow-x:auto;line-height:normal;font-family:Menlo,'DejaVu Sans Mono',consolas,'Courier New',monospace\"><span style=\"font-weight: bold\"> Non-trainable params: </span><span style=\"color: #00af00; text-decoration-color: #00af00\">0</span> (0.00 B)\n",
       "</pre>\n"
      ],
      "text/plain": [
       "\u001b[1m Non-trainable params: \u001b[0m\u001b[38;5;34m0\u001b[0m (0.00 B)\n"
      ]
     },
     "metadata": {},
     "output_type": "display_data"
    },
    {
     "name": "stdout",
     "output_type": "stream",
     "text": [
      "Epoch 1/5\n",
      "\u001b[1m5627/5627\u001b[0m \u001b[32m━━━━━━━━━━━━━━━━━━━━\u001b[0m\u001b[37m\u001b[0m \u001b[1m109s\u001b[0m 19ms/step - accuracy: 0.6927 - loss: 0.2627 - val_accuracy: 0.8180 - val_loss: 0.1780\n",
      "Epoch 2/5\n",
      "\u001b[1m5627/5627\u001b[0m \u001b[32m━━━━━━━━━━━━━━━━━━━━\u001b[0m\u001b[37m\u001b[0m \u001b[1m112s\u001b[0m 20ms/step - accuracy: 0.8340 - loss: 0.1656 - val_accuracy: 0.8239 - val_loss: 0.1714\n",
      "Epoch 3/5\n",
      "\u001b[1m5627/5627\u001b[0m \u001b[32m━━━━━━━━━━━━━━━━━━━━\u001b[0m\u001b[37m\u001b[0m \u001b[1m113s\u001b[0m 20ms/step - accuracy: 0.8606 - loss: 0.1417 - val_accuracy: 0.8197 - val_loss: 0.1784\n",
      "Epoch 4/5\n",
      "\u001b[1m5627/5627\u001b[0m \u001b[32m━━━━━━━━━━━━━━━━━━━━\u001b[0m\u001b[37m\u001b[0m \u001b[1m140s\u001b[0m 20ms/step - accuracy: 0.8843 - loss: 0.1213 - val_accuracy: 0.8191 - val_loss: 0.1867\n",
      "Epoch 5/5\n",
      "\u001b[1m5627/5627\u001b[0m \u001b[32m━━━━━━━━━━━━━━━━━━━━\u001b[0m\u001b[37m\u001b[0m \u001b[1m116s\u001b[0m 21ms/step - accuracy: 0.9051 - loss: 0.1019 - val_accuracy: 0.8063 - val_loss: 0.2003\n"
     ]
    }
   ],
   "source": [
    "model_1 = tf.keras.Sequential([\n",
    "    layers.Input(shape=(1,), dtype=\"string\"),  # Specify dtype as \"string\"\n",
    "    text_vector,\n",
    "    embedding_vector,\n",
    "    layers.Conv1D(filters=64, kernel_size=5, strides=1, activation=\"relu\"),\n",
    "    layers.Conv1D(filters=64, kernel_size=5, strides=1, activation=\"relu\"),\n",
    "    layers.GlobalAvgPool1D(),\n",
    "    layers.Dense(64, activation=\"relu\"),\n",
    "    layers.Dense(5, activation=\"softmax\")  # Final output layer\n",
    "])\n",
    "model_1.compile(optimizer='adam', loss=tf.keras.losses.CategoricalCrossentropy, metrics=['accuracy'])\n",
    "model_1.summary()\n",
    "history = model_1.fit(train_x, train_ohe, epochs=5, batch_size=32,\n",
    "                     validation_data=(val_x,val_ohe))"
   ]
  },
  {
   "cell_type": "code",
   "execution_count": 45,
   "id": "9789ac5a-b0d7-4236-a1db-a53184565a7c",
   "metadata": {
    "tags": []
   },
   "outputs": [
    {
     "ename": "ValueError",
     "evalue": "Invalid dtype: str4288",
     "output_type": "error",
     "traceback": [
      "\u001b[1;31m---------------------------------------------------------------------------\u001b[0m",
      "\u001b[1;31mValueError\u001b[0m                                Traceback (most recent call last)",
      "Cell \u001b[1;32mIn[45], line 3\u001b[0m\n\u001b[0;32m      1\u001b[0m \u001b[38;5;28;01mfor\u001b[39;00m i \u001b[38;5;129;01min\u001b[39;00m \u001b[38;5;28mrange\u001b[39m(\u001b[38;5;241m10\u001b[39m):\n\u001b[0;32m      2\u001b[0m     input_data \u001b[38;5;241m=\u001b[39m np\u001b[38;5;241m.\u001b[39marray([\u001b[38;5;28mstr\u001b[39m(val_x[i])])  \u001b[38;5;66;03m# Ensure string type\u001b[39;00m\n\u001b[1;32m----> 3\u001b[0m     prediction \u001b[38;5;241m=\u001b[39m model_1\u001b[38;5;241m.\u001b[39mpredict(input_data)\n\u001b[0;32m      4\u001b[0m     \u001b[38;5;28mprint\u001b[39m(test_x[i], \u001b[38;5;124m\"\u001b[39m\u001b[38;5;124m| Actual = \u001b[39m\u001b[38;5;124m\"\u001b[39m, test_y[i], \u001b[38;5;124m\"\u001b[39m\u001b[38;5;124m| Predicted = \u001b[39m\u001b[38;5;124m\"\u001b[39m, prediction)\n\u001b[0;32m      5\u001b[0m     \u001b[38;5;28mprint\u001b[39m()\n",
      "File \u001b[1;32m~\\AppData\\Roaming\\Python\\Python311\\site-packages\\keras\\src\\utils\\traceback_utils.py:122\u001b[0m, in \u001b[0;36mfilter_traceback.<locals>.error_handler\u001b[1;34m(*args, **kwargs)\u001b[0m\n\u001b[0;32m    119\u001b[0m     filtered_tb \u001b[38;5;241m=\u001b[39m _process_traceback_frames(e\u001b[38;5;241m.\u001b[39m__traceback__)\n\u001b[0;32m    120\u001b[0m     \u001b[38;5;66;03m# To get the full stack trace, call:\u001b[39;00m\n\u001b[0;32m    121\u001b[0m     \u001b[38;5;66;03m# `keras.config.disable_traceback_filtering()`\u001b[39;00m\n\u001b[1;32m--> 122\u001b[0m     \u001b[38;5;28;01mraise\u001b[39;00m e\u001b[38;5;241m.\u001b[39mwith_traceback(filtered_tb) \u001b[38;5;28;01mfrom\u001b[39;00m \u001b[38;5;28;01mNone\u001b[39;00m\n\u001b[0;32m    123\u001b[0m \u001b[38;5;28;01mfinally\u001b[39;00m:\n\u001b[0;32m    124\u001b[0m     \u001b[38;5;28;01mdel\u001b[39;00m filtered_tb\n",
      "File \u001b[1;32m~\\AppData\\Roaming\\Python\\Python311\\site-packages\\optree\\ops.py:747\u001b[0m, in \u001b[0;36mtree_map\u001b[1;34m(func, tree, is_leaf, none_is_leaf, namespace, *rests)\u001b[0m\n\u001b[0;32m    745\u001b[0m leaves, treespec \u001b[38;5;241m=\u001b[39m _C\u001b[38;5;241m.\u001b[39mflatten(tree, is_leaf, none_is_leaf, namespace)\n\u001b[0;32m    746\u001b[0m flat_args \u001b[38;5;241m=\u001b[39m [leaves] \u001b[38;5;241m+\u001b[39m [treespec\u001b[38;5;241m.\u001b[39mflatten_up_to(r) \u001b[38;5;28;01mfor\u001b[39;00m r \u001b[38;5;129;01min\u001b[39;00m rests]\n\u001b[1;32m--> 747\u001b[0m \u001b[38;5;28;01mreturn\u001b[39;00m treespec\u001b[38;5;241m.\u001b[39munflatten(\u001b[38;5;28mmap\u001b[39m(func, \u001b[38;5;241m*\u001b[39mflat_args))\n",
      "\u001b[1;31mValueError\u001b[0m: Invalid dtype: str4288"
     ]
    }
   ],
   "source": [
    "for i in range(10):\n",
    "    input_data = np.array([str(val_x[i])])  # Ensure string type\n",
    "    prediction = model_1.predict(input_data)\n",
    "    print(test_x[i], \"| Actual = \", test_y[i], \"| Predicted = \", prediction)\n",
    "    print()\n"
   ]
  },
  {
   "cell_type": "code",
   "execution_count": 38,
   "id": "4045496a-c91e-421f-a38d-e135445271fb",
   "metadata": {
    "tags": []
   },
   "outputs": [
    {
     "data": {
      "text/plain": [
       "'This study analyzed liver function abnormalities in heart failure patients admitted with severe acute decompensated heart failure ( ADHF ) .'"
      ]
     },
     "execution_count": 38,
     "metadata": {},
     "output_type": "execute_result"
    }
   ],
   "source": [
    "test_x[0]"
   ]
  },
  {
   "cell_type": "code",
   "execution_count": null,
   "id": "10283556-d845-4681-8bc3-7d2b66b25419",
   "metadata": {},
   "outputs": [],
   "source": []
  }
 ],
 "metadata": {
  "kernelspec": {
   "display_name": "Python 3 (ipykernel)",
   "language": "python",
   "name": "python3"
  },
  "language_info": {
   "codemirror_mode": {
    "name": "ipython",
    "version": 3
   },
   "file_extension": ".py",
   "mimetype": "text/x-python",
   "name": "python",
   "nbconvert_exporter": "python",
   "pygments_lexer": "ipython3",
   "version": "3.11.5"
  }
 },
 "nbformat": 4,
 "nbformat_minor": 5
}
